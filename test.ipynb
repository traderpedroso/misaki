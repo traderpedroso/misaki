{
 "cells": [
  {
   "cell_type": "code",
   "execution_count": 9,
   "metadata": {},
   "outputs": [
    {
     "name": "stdout",
     "output_type": "stream",
     "text": [
      "Processing /Users/emersonpedroso/projects/tmp/misaki\n",
      "  Installing build dependencies ... \u001b[?25ldone\n",
      "\u001b[?25h  Getting requirements to build wheel ... \u001b[?25ldone\n",
      "\u001b[?25h  Preparing metadata (pyproject.toml) ... \u001b[?25ldone\n",
      "\u001b[?25hRequirement already satisfied: regex in /Users/emersonpedroso/opt/anaconda3/envs/voice/lib/python3.11/site-packages (from misaki==0.8.4) (2024.11.6)\n",
      "Building wheels for collected packages: misaki\n",
      "  Building wheel for misaki (pyproject.toml) ... \u001b[?25ldone\n",
      "\u001b[?25h  Created wheel for misaki: filename=misaki-0.8.4-py3-none-any.whl size=3548735 sha256=227a4abda76aa22263813529fcb75f757ed75fee3afb305284f374896117ec0d\n",
      "  Stored in directory: /private/var/folders/hh/ty57zzs5021g0c4wkbx8xqkc0000gn/T/pip-ephem-wheel-cache-htf6h9zl/wheels/9a/e8/33/b81a6c3e0fa79efe93489ec631a0948e7672b1d5a0aceeb22c\n",
      "Successfully built misaki\n",
      "Installing collected packages: misaki\n",
      "  Attempting uninstall: misaki\n",
      "    Found existing installation: misaki 0.8.4\n",
      "    Uninstalling misaki-0.8.4:\n",
      "      Successfully uninstalled misaki-0.8.4\n",
      "Successfully installed misaki-0.8.4\n"
     ]
    }
   ],
   "source": [
    "!pip install ."
   ]
  },
  {
   "cell_type": "code",
   "execution_count": 2,
   "metadata": {},
   "outputs": [],
   "source": [
    "from misaki import en, espeak\n",
    "\n"
   ]
  },
  {
   "cell_type": "code",
   "execution_count": 5,
   "metadata": {},
   "outputs": [],
   "source": [
    "\n",
    "from misaki import en, espeak\n",
    "g2p = en.G2P(trf=False) # no transformer, American English\n",
    "\n",
    "text = 'Quanto tempo meu amigo estou muito feliz por vc.'\n",
    "\n",
    "phonemes, tokens = g2p(text)"
   ]
  },
  {
   "cell_type": "code",
   "execution_count": 6,
   "metadata": {},
   "outputs": [
    {
     "data": {
      "text/plain": [
       "'❓ tˈɛmpO ❓ əmˈiɡO ❓ ❓ ❓ ❓ ❓.'"
      ]
     },
     "execution_count": 6,
     "metadata": {},
     "output_type": "execute_result"
    }
   ],
   "source": [
    "phonemes"
   ]
  },
  {
   "cell_type": "code",
   "execution_count": 7,
   "metadata": {},
   "outputs": [
    {
     "data": {
      "text/plain": [
       "[MToken(text='Quanto', tag='NNP', whitespace=' ', is_head=True, alias=None, phonemes=None, stress=None, currency=None, num_flags='', prespace=False, rating=None, start_ts=None, end_ts=None),\n",
       " MToken(text='tempo', tag='NN', whitespace=' ', is_head=True, alias=None, phonemes='tˈɛmpO', stress=None, currency=None, num_flags='', prespace=False, rating=4, start_ts=None, end_ts=None),\n",
       " MToken(text='meu', tag='NNP', whitespace=' ', is_head=True, alias=None, phonemes=None, stress=None, currency=None, num_flags='', prespace=False, rating=None, start_ts=None, end_ts=None),\n",
       " MToken(text='amigo', tag='NNP', whitespace=' ', is_head=True, alias=None, phonemes='əmˈiɡO', stress=None, currency=None, num_flags='', prespace=False, rating=4, start_ts=None, end_ts=None),\n",
       " MToken(text='estou', tag='NNP', whitespace=' ', is_head=True, alias=None, phonemes=None, stress=None, currency=None, num_flags='', prespace=False, rating=None, start_ts=None, end_ts=None),\n",
       " MToken(text='muito', tag='NNP', whitespace=' ', is_head=True, alias=None, phonemes=None, stress=None, currency=None, num_flags='', prespace=False, rating=None, start_ts=None, end_ts=None),\n",
       " MToken(text='feliz', tag='NNP', whitespace=' ', is_head=True, alias=None, phonemes=None, stress=None, currency=None, num_flags='', prespace=False, rating=None, start_ts=None, end_ts=None),\n",
       " MToken(text='por', tag='NNP', whitespace=' ', is_head=True, alias=None, phonemes=None, stress=None, currency=None, num_flags='', prespace=False, rating=None, start_ts=None, end_ts=None),\n",
       " MToken(text='vc', tag='NNP', whitespace='', is_head=True, alias=None, phonemes=None, stress=None, currency=None, num_flags='', prespace=False, rating=None, start_ts=None, end_ts=None),\n",
       " MToken(text='.', tag='.', whitespace='', is_head=True, alias=None, phonemes='.', stress=None, currency=None, num_flags='', prespace=False, rating=4, start_ts=None, end_ts=None)]"
      ]
     },
     "execution_count": 7,
     "metadata": {},
     "output_type": "execute_result"
    }
   ],
   "source": [
    "tokens"
   ]
  },
  {
   "cell_type": "code",
   "execution_count": 1,
   "metadata": {},
   "outputs": [],
   "source": [
    "from misaki import en, espeak\n",
    "g2p = espeak.EspeakG2P(language=\"pt-br\")\n",
    "text = 'Quanto tempo meu amigo estou muito feliz por vc.'\n",
    "\n",
    "phonemes, tokens = g2p(text)"
   ]
  },
  {
   "cell_type": "code",
   "execution_count": 3,
   "metadata": {},
   "outputs": [
    {
     "data": {
      "text/plain": [
       "'kwˈɐ̃ŋtʊ tˈAmpʊ mˈeʊ ˌæmˈiɡʊ estˌow mwˈiŋtʊ felˈis por vˌesˈe.'"
      ]
     },
     "execution_count": 3,
     "metadata": {},
     "output_type": "execute_result"
    }
   ],
   "source": [
    "phonemes"
   ]
  },
  {
   "cell_type": "code",
   "execution_count": 4,
   "metadata": {},
   "outputs": [
    {
     "data": {
      "text/plain": [
       "[MToken(text='Quanto', tag='DET', whitespace=' ', is_head=True, alias=None, phonemes='kwˈɐ̃ŋtʊ', stress=None, currency=None, num_flags='', prespace=False, rating=3, start_ts=None, end_ts=None),\n",
       " MToken(text='tempo', tag='NOUN', whitespace=' ', is_head=True, alias=None, phonemes='tˈAmpʊ', stress=None, currency=None, num_flags='', prespace=False, rating=3, start_ts=None, end_ts=None),\n",
       " MToken(text='meu', tag='DET', whitespace=' ', is_head=True, alias=None, phonemes='mˈeʊ', stress=None, currency=None, num_flags='', prespace=False, rating=3, start_ts=None, end_ts=None),\n",
       " MToken(text='amigo', tag='NOUN', whitespace=' ', is_head=True, alias=None, phonemes='ˌæmˈiɡʊ', stress=None, currency=None, num_flags='', prespace=False, rating=3, start_ts=None, end_ts=None),\n",
       " MToken(text='estou', tag='AUX', whitespace=' ', is_head=True, alias=None, phonemes='estˌow', stress=None, currency=None, num_flags='', prespace=False, rating=3, start_ts=None, end_ts=None),\n",
       " MToken(text='muito', tag='ADV', whitespace=' ', is_head=True, alias=None, phonemes='mwˈiŋtʊ', stress=None, currency=None, num_flags='', prespace=False, rating=3, start_ts=None, end_ts=None),\n",
       " MToken(text='feliz', tag='ADJ', whitespace=' ', is_head=True, alias=None, phonemes='felˈis', stress=None, currency=None, num_flags='', prespace=False, rating=3, start_ts=None, end_ts=None),\n",
       " MToken(text='por', tag='ADP', whitespace=' ', is_head=True, alias=None, phonemes='por', stress=None, currency=None, num_flags='', prespace=False, rating=3, start_ts=None, end_ts=None),\n",
       " MToken(text='vc', tag='NOUN', whitespace='', is_head=True, alias=None, phonemes='vˌesˈe', stress=None, currency=None, num_flags='', prespace=False, rating=3, start_ts=None, end_ts=None),\n",
       " MToken(text='.', tag='PUNCT', whitespace='', is_head=True, alias=None, phonemes='.', stress=None, currency=None, num_flags='', prespace=False, rating=3, start_ts=None, end_ts=None)]"
      ]
     },
     "execution_count": 4,
     "metadata": {},
     "output_type": "execute_result"
    }
   ],
   "source": [
    "tokens\n"
   ]
  },
  {
   "cell_type": "code",
   "execution_count": null,
   "metadata": {},
   "outputs": [],
   "source": []
  },
  {
   "cell_type": "code",
   "execution_count": 7,
   "metadata": {},
   "outputs": [],
   "source": [
    "text = 'Now outofdictionary words are handled by espeak.'\n",
    "\n",
    "phonemes, tokens = g2p(text)\n"
   ]
  },
  {
   "cell_type": "code",
   "execution_count": 3,
   "metadata": {},
   "outputs": [
    {
     "data": {
      "text/plain": [
       "'nˈow ˌowtofʤˌikʧionˈaɾi wˈoɾəds ˈaɾy ɐ̃ŋdlˈed bi ispˈiːk.'"
      ]
     },
     "execution_count": 3,
     "metadata": {},
     "output_type": "execute_result"
    }
   ],
   "source": [
    "phonemes"
   ]
  },
  {
   "cell_type": "code",
   "execution_count": 8,
   "metadata": {},
   "outputs": [],
   "source": [
    "tokens"
   ]
  }
 ],
 "metadata": {
  "kernelspec": {
   "display_name": "voice",
   "language": "python",
   "name": "python3"
  },
  "language_info": {
   "codemirror_mode": {
    "name": "ipython",
    "version": 3
   },
   "file_extension": ".py",
   "mimetype": "text/x-python",
   "name": "python",
   "nbconvert_exporter": "python",
   "pygments_lexer": "ipython3",
   "version": "3.11.11"
  }
 },
 "nbformat": 4,
 "nbformat_minor": 2
}
